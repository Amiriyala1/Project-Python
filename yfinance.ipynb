{
  "metadata": {
    "kernelspec": {
      "display_name": "Python (Pyodide)",
      "language": "python",
      "name": "python"
    },
    "language_info": {
      "codemirror_mode": {
        "name": "python",
        "version": 3
      },
      "file_extension": ".py",
      "mimetype": "text/x-python",
      "name": "python",
      "nbconvert_exporter": "python",
      "pygments_lexer": "ipython3",
      "version": "3.8"
    }
  },
  "nbformat_minor": 5,
  "nbformat": 4,
  "cells": [
    {
      "id": "ea9d49bc-646a-4d59-859b-ade318f8c458",
      "cell_type": "code",
      "source": "import yfinance as yf\nimport pandas as pd\nimport requests\nfrom bs4 import BeautifulSoup\nimport plotly.graph_objs as go\n\ntesla = yf.Ticker(\"TSLA\")\ntesla_data = tesla.history(period=\"max\")\ntesla_data.reset_index(inplace=True)\nprint(\"Tesla Stock Data (First 5 Rows):\")\nprint(tesla_data.head())\n\nurl_tesla = \"https://www.macrotrends.net/stocks/charts/TSLA/tesla/revenue\"\nhtml_tesla = requests.get(url_tesla).text\nsoup_tesla = BeautifulSoup(html_tesla, \"html.parser\")\ntables = soup_tesla.find_all(\"table\")\nfor table in tables:\n    if \"Tesla Quarterly Revenue\" in str(table):\n        tesla_revenue_table = table\n        break\ntesla_revenue = pd.read_html(str(tesla_revenue_table))[0]\ntesla_revenue.columns = ['Date', 'Revenue']\ntesla_revenue = tesla_revenue[tesla_revenue['Revenue'] != '']\ntesla_revenue['Revenue'] = tesla_revenue['Revenue'].str.replace('$','').str.replace(',','')\ntesla_revenue.dropna(inplace=True)\ntesla_revenue['Revenue'] = pd.to_numeric(tesla_revenue['Revenue'])\ntesla_revenue['Date'] = pd.to_datetime(tesla_revenue['Date'])\nprint(\"\\nTesla Revenue Data (Last 5 Rows):\")\nprint(tesla_revenue.tail())\n\ngme = yf.Ticker(\"GME\")\ngme_data = gme.history(period=\"max\")\ngme_data.reset_index(inplace=True)\nprint(\"\\nGameStop Stock Data (First 5 Rows):\")\nprint(gme_data.head())\n\nurl_gme = \"https://www.macrotrends.net/stocks/charts/GME/gamestop/revenue\"\nhtml_gme = requests.get(url_gme).text\nsoup_gme = BeautifulSoup(html_gme, \"html.parser\")\ntables = soup_gme.find_all(\"table\")\nfor table in tables:\n    if \"GameStop Quarterly Revenue\" in str(table):\n        gme_revenue_table = table\n        break\ngme_revenue = pd.read_html(str(gme_revenue_table))[0]\ngme_revenue.columns = ['Date', 'Revenue']\ngme_revenue = gme_revenue[gme_revenue['Revenue'] != '']\ngme_revenue['Revenue'] = gme_revenue['Revenue'].str.replace('$','').str.replace(',','')\ngme_revenue.dropna(inplace=True)\ngme_revenue['Revenue'] = pd.to_numeric(gme_revenue['Revenue'])\ngme_revenue['Date'] = pd.to_datetime(gme_revenue['Date'])\nprint(\"\\nGameStop Revenue Data (Last 5 Rows):\")\nprint(gme_revenue.tail())\n\ndef make_graph(stock_data, revenue_data, stock_name):\n    fig = go.Figure()\n    fig.add_trace(go.Scatter(x=stock_data['Date'], y=stock_data['Close'], name=\"Stock Price\"))\n    fig.add_trace(go.Scatter(x=revenue_data['Date'], y=revenue_data['Revenue'], name=\"Revenue\", yaxis=\"y2\"))\n    fig.update_layout(\n        title=f\"{stock_name} Stock Price and Revenue\",\n        xaxis_title=\"Date\",\n        yaxis=dict(title=\"Stock Price\"),\n        yaxis2=dict(title=\"Revenue\", overlaying='y', side='right')\n    )\n    fig.show()\n\nmake_graph(tesla_data, tesla_revenue, \"Tesla\")\n\nmake_graph(gme_data, gme_revenue, \"GameStop\")\n",
      "metadata": {
        "trusted": true
      },
      "outputs": [],
      "execution_count": null
    }
  ]
}